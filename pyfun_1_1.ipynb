{
 "cells": [
  {
   "cell_type": "markdown",
   "id": "73519b3b-b131-4e0b-9fa7-731ceb1e3595",
   "metadata": {},
   "source": [
    "# Exploring Variables and Objects"
   ]
  },
  {
   "cell_type": "markdown",
   "id": "b27fe963-4fc0-42e1-9cab-b9bb532849da",
   "metadata": {},
   "source": [
    "### Lists and References\n",
    "When one creates a variable and then assigns it to a second variable, one gets a surprising result:"
   ]
  },
  {
   "cell_type": "code",
   "execution_count": 19,
   "id": "d89b326d-efde-4dae-b40e-2c5ba69668bc",
   "metadata": {
    "tags": []
   },
   "outputs": [
    {
     "name": "stdout",
     "output_type": "stream",
     "text": [
      "[1, 9, 3] 4598568832 [1, 9, 3] 4598568832\n"
     ]
    }
   ],
   "source": [
    "a = [1, 2, 3]\n",
    "b = a\n",
    "b[1] = 9\n",
    "\n",
    "print(a, id(a), b, id(b))"
   ]
  },
  {
   "cell_type": "markdown",
   "id": "b3a4699b-a751-4aa2-b012-36810a26e396",
   "metadata": {},
   "source": [
    "### b is a reference to (label for) object a, when it's a list"
   ]
  },
  {
   "cell_type": "markdown",
   "id": "7157b713-66a6-4270-83da-7cd8dd39620e",
   "metadata": {},
   "source": [
    "How does it work with ints ?"
   ]
  },
  {
   "cell_type": "code",
   "execution_count": 15,
   "id": "07872404-d6c6-4c9e-a1eb-49b7f072d8b9",
   "metadata": {
    "tags": []
   },
   "outputs": [
    {
     "name": "stdout",
     "output_type": "stream",
     "text": [
      "1 4560301144 2 4560301176\n"
     ]
    }
   ],
   "source": [
    "num_a = 1\n",
    "num_b = num_a\n",
    "num_b = 2\n",
    "\n",
    "print(num_a, id(num_a), num_b, id(num_b))"
   ]
  },
  {
   "cell_type": "markdown",
   "id": "0ceaef8c-ef0b-4e21-b5a2-5e8b6bf259d1",
   "metadata": {
    "tags": []
   },
   "source": [
    "### num_a and num_b are two different objects (copies / containers) when they are integers."
   ]
  },
  {
   "cell_type": "markdown",
   "id": "864ccfce-f9b5-41c9-8cd7-e3efea1de0b0",
   "metadata": {},
   "source": [
    "### How are floats handled? Are they any different ?"
   ]
  },
  {
   "cell_type": "code",
   "execution_count": 23,
   "id": "203e5bef-11bb-4049-936f-abb14ca40cb5",
   "metadata": {
    "tags": []
   },
   "outputs": [
    {
     "name": "stdout",
     "output_type": "stream",
     "text": [
      "3.0\n",
      "3.0 4597554384 6.0 4597551312\n"
     ]
    }
   ],
   "source": [
    "float_a = float(3)\n",
    "float_b = float_a\n",
    "print(float_b)\n",
    "float_b = float(6)\n",
    "\n",
    "print(float_a, id(float_a), float_b, id(float_b))"
   ]
  },
  {
   "cell_type": "markdown",
   "id": "224a8178-7eca-4cfd-8297-be69cd8e8f91",
   "metadata": {},
   "source": [
    "Floats are handled similar to ints. float_a and float_b are two different objects. When float_b was assigned to float_a, it was a copy, not a reference."
   ]
  },
  {
   "cell_type": "markdown",
   "id": "6531cb34-8de2-41a5-a7a9-340e2937e471",
   "metadata": {
    "tags": []
   },
   "source": [
    "### Tuples"
   ]
  },
  {
   "cell_type": "markdown",
   "id": "4756a3b4-7d5d-4a3a-95bf-966731300ca3",
   "metadata": {},
   "source": [
    "Tuples store a collection of items in an ordered fashion. Tuples cannot be changed once they are defined."
   ]
  },
  {
   "cell_type": "code",
   "execution_count": 26,
   "id": "2e94786d-6f63-4a6c-850a-8a41d1a9632f",
   "metadata": {
    "tags": []
   },
   "outputs": [
    {
     "name": "stdout",
     "output_type": "stream",
     "text": [
      "('W', 'N', 'Y')\n",
      "('W', 'N', 'Y') 4599091456 ('C', 'F', 'M', 'A', 'M') 4598849808\n"
     ]
    }
   ],
   "source": [
    "tuple_a = ('W', 'N', 'Y')\n",
    "tuple_b = tuple_a\n",
    "print(tuple_b)\n",
    "tuple_b = ('C', 'F', 'M', 'A', 'M')\n",
    "\n",
    "print(tuple_a, id(tuple_a), tuple_b, id(tuple_b))"
   ]
  },
  {
   "cell_type": "markdown",
   "id": "c94d24d6-b8e8-45b1-ab96-c72b8d47e190",
   "metadata": {},
   "source": [
    "The two tuples are different objects. Like ints and floats, they are 'immutable'"
   ]
  },
  {
   "cell_type": "markdown",
   "id": "5863f23c-49c6-44ac-88d6-c0323909d974",
   "metadata": {},
   "source": [
    "### Dictionaries (dicts)"
   ]
  },
  {
   "cell_type": "code",
   "execution_count": 28,
   "id": "43aae9a5-015f-41d6-bb5d-d8431c21e6ae",
   "metadata": {
    "tags": []
   },
   "outputs": [
    {
     "name": "stdout",
     "output_type": "stream",
     "text": [
      "{'a': 'analog', 'd': 'digital', 'h': 'http'}\n",
      "{'a': 'awesome!', 'd': 'digital', 'h': 'http'} 4599170816 {'a': 'awesome!', 'd': 'digital', 'h': 'http'} 4599170816\n"
     ]
    }
   ],
   "source": [
    "dict_a = {'a': 'analog', 'd': 'digital', 'h': 'http'}\n",
    "dict_b = dict_a\n",
    "print(dict_b)\n",
    "dict_b['a'] = 'awesome!'\n",
    "print(dict_a, id(dict_a), dict_b, id(dict_b))\n"
   ]
  },
  {
   "cell_type": "markdown",
   "id": "cdf28fff-829c-4cae-b449-425c3e408197",
   "metadata": {},
   "source": [
    "dict_b is just a reference to dict_a. They are both pointing to the same object, just as in the first example (with lists)."
   ]
  }
 ],
 "metadata": {
  "kernelspec": {
   "display_name": "Python 3 (ipykernel)",
   "language": "python",
   "name": "python3"
  },
  "language_info": {
   "codemirror_mode": {
    "name": "ipython",
    "version": 3
   },
   "file_extension": ".py",
   "mimetype": "text/x-python",
   "name": "python",
   "nbconvert_exporter": "python",
   "pygments_lexer": "ipython3",
   "version": "3.11.2"
  }
 },
 "nbformat": 4,
 "nbformat_minor": 5
}

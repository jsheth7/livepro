{
 "cells": [
  {
   "cell_type": "markdown",
   "id": "d180292c-eb2b-41cf-8ee2-21847417b087",
   "metadata": {},
   "source": [
    "# Class Data and Methods"
   ]
  },
  {
   "cell_type": "markdown",
   "id": "6288b315-de38-4327-8678-cec549410c16",
   "metadata": {},
   "source": [
    "### Class Data"
   ]
  },
  {
   "cell_type": "code",
   "execution_count": 32,
   "id": "da41608a-d898-4f5f-b016-f2a0d5e6e401",
   "metadata": {
    "tags": []
   },
   "outputs": [],
   "source": [
    "class Connection:\n",
    "    port = 55000\n",
    "    conn_limit = 10\n",
    "    conn_count = 0\n",
    "    \n",
    "    def __init__(self, host):\n",
    "        # set the host for the instance\n",
    "        self.host = host\n",
    "        # set the port based on the class variable port\n",
    "        \n",
    "        # add 1 to the class's connection_count\n",
    "        self.conn_count += 1\n",
    "        \n",
    "\n",
    "    def close(self):\n",
    "        # reduce the class's connection_count by 1\n",
    "        self.conn_count -= 1\n",
    "        \n",
    "    def __repr__(self):\n",
    "        return f\"{self.host}, {self.port}\""
   ]
  },
  {
   "cell_type": "code",
   "execution_count": 34,
   "id": "3380a25f-0224-4231-b80f-2c2f29160089",
   "metadata": {
    "tags": []
   },
   "outputs": [
    {
     "data": {
      "text/plain": [
       "{'host': 'localhost', 'conn_count': 1}"
      ]
     },
     "execution_count": 34,
     "metadata": {},
     "output_type": "execute_result"
    }
   ],
   "source": [
    "connect = Connection('localhost')\n",
    "connect.__dict__"
   ]
  },
  {
   "cell_type": "code",
   "execution_count": 8,
   "id": "2fb448b9-0465-4544-8a58-1e679617788e",
   "metadata": {
    "tags": []
   },
   "outputs": [
    {
     "data": {
      "text/plain": [
       "{'host': 'localhost', 'conn_count': 0}"
      ]
     },
     "execution_count": 8,
     "metadata": {},
     "output_type": "execute_result"
    }
   ],
   "source": [
    "connect.close()\n",
    "connect.__dict__"
   ]
  },
  {
   "cell_type": "code",
   "execution_count": 9,
   "id": "da1c48c1-c0d3-414a-964f-42e3e12db2c2",
   "metadata": {
    "tags": []
   },
   "outputs": [
    {
     "data": {
      "text/plain": [
       "mappingproxy({'__module__': '__main__',\n",
       "              'port': 55000,\n",
       "              'conn_limit': 10,\n",
       "              'conn_count': 0,\n",
       "              '__init__': <function __main__.Connection.__init__(self, host)>,\n",
       "              'close': <function __main__.Connection.close(self)>,\n",
       "              '__repr__': <function __main__.Connection.__repr__(self)>,\n",
       "              '__dict__': <attribute '__dict__' of 'Connection' objects>,\n",
       "              '__weakref__': <attribute '__weakref__' of 'Connection' objects>,\n",
       "              '__doc__': None})"
      ]
     },
     "execution_count": 9,
     "metadata": {},
     "output_type": "execute_result"
    }
   ],
   "source": [
    "Connection.__dict__"
   ]
  },
  {
   "cell_type": "code",
   "execution_count": 41,
   "id": "d10e3bd0-3999-48a3-9b99-7e1b8def5596",
   "metadata": {
    "tags": []
   },
   "outputs": [],
   "source": [
    "class ConnectionTwo:\n",
    "    port = 55000\n",
    "    conn_limit = 10\n",
    "    connections = []\n",
    "    \n",
    "    def __init__(self, host):\n",
    "        # implement using the connections list\n",
    "        self.connections.append(self)\n",
    "        \n",
    "    def close(self):\n",
    "        self.connections.remove(self)\n",
    "        \n",
    "    def __repr__(self):\n",
    "        return f\"{self.connections}\""
   ]
  },
  {
   "cell_type": "code",
   "execution_count": 42,
   "id": "8d9a0d14-ef2c-4181-9c5c-f4adeb607b86",
   "metadata": {
    "tags": []
   },
   "outputs": [
    {
     "data": {
      "text/plain": [
       "{}"
      ]
     },
     "execution_count": 42,
     "metadata": {},
     "output_type": "execute_result"
    }
   ],
   "source": [
    "connect2 = ConnectionTwo('localhost')\n",
    "connect2.__dict__\n",
    "# Each time the code above is run, it appends another \"self\" to the list within the class data"
   ]
  },
  {
   "cell_type": "code",
   "execution_count": 43,
   "id": "ad4120f2-3ee9-4229-ae0b-263ba115122b",
   "metadata": {
    "tags": []
   },
   "outputs": [
    {
     "name": "stdout",
     "output_type": "stream",
     "text": [
      "[[...]]\n"
     ]
    }
   ],
   "source": [
    "print(connect2)"
   ]
  },
  {
   "cell_type": "code",
   "execution_count": 44,
   "id": "dfd22cb9-e471-4e53-a7b2-3efae4f03665",
   "metadata": {
    "tags": []
   },
   "outputs": [
    {
     "data": {
      "text/plain": [
       "mappingproxy({'__module__': '__main__',\n",
       "              'port': 55000,\n",
       "              'conn_limit': 10,\n",
       "              'connections': [[[...]]],\n",
       "              '__init__': <function __main__.ConnectionTwo.__init__(self, host)>,\n",
       "              'close': <function __main__.ConnectionTwo.close(self)>,\n",
       "              '__repr__': <function __main__.ConnectionTwo.__repr__(self)>,\n",
       "              '__dict__': <attribute '__dict__' of 'ConnectionTwo' objects>,\n",
       "              '__weakref__': <attribute '__weakref__' of 'ConnectionTwo' objects>,\n",
       "              '__doc__': None})"
      ]
     },
     "execution_count": 44,
     "metadata": {},
     "output_type": "execute_result"
    }
   ],
   "source": [
    "ConnectionTwo.__dict__"
   ]
  },
  {
   "cell_type": "code",
   "execution_count": 50,
   "id": "3cdc2a29-bd0c-428c-a97f-52022c502e07",
   "metadata": {
    "tags": []
   },
   "outputs": [
    {
     "data": {
      "text/plain": [
       "{}"
      ]
     },
     "execution_count": 50,
     "metadata": {},
     "output_type": "execute_result"
    }
   ],
   "source": [
    "connect3 = ConnectionTwo('localhost')\n",
    "connect3.__dict__"
   ]
  },
  {
   "cell_type": "code",
   "execution_count": 51,
   "id": "5d71a40f-0675-4878-b711-aa70f615093d",
   "metadata": {
    "tags": []
   },
   "outputs": [
    {
     "name": "stdout",
     "output_type": "stream",
     "text": [
      "[[...], [...], [...]]\n"
     ]
    }
   ],
   "source": [
    "print(connect3)"
   ]
  },
  {
   "cell_type": "markdown",
   "id": "85c7d7d1-ac47-4dda-b00c-2146c70ab065",
   "metadata": {},
   "source": [
    "### Somehow, when we use lists, it is storing the data on the class level, and not the instance level (weird!)."
   ]
  },
  {
   "cell_type": "code",
   "execution_count": 52,
   "id": "bf5b9d98-f378-49e7-9156-cfc64b5d644c",
   "metadata": {
    "tags": []
   },
   "outputs": [
    {
     "data": {
      "text/plain": [
       "mappingproxy({'__module__': '__main__',\n",
       "              'port': 55000,\n",
       "              'conn_limit': 10,\n",
       "              'connections': [[[...], [...], [...]],\n",
       "               [[...], [...], [...]],\n",
       "               [[...], [...], [...]]],\n",
       "              '__init__': <function __main__.ConnectionTwo.__init__(self, host)>,\n",
       "              'close': <function __main__.ConnectionTwo.close(self)>,\n",
       "              '__repr__': <function __main__.ConnectionTwo.__repr__(self)>,\n",
       "              '__dict__': <attribute '__dict__' of 'ConnectionTwo' objects>,\n",
       "              '__weakref__': <attribute '__weakref__' of 'ConnectionTwo' objects>,\n",
       "              '__doc__': None})"
      ]
     },
     "execution_count": 52,
     "metadata": {},
     "output_type": "execute_result"
    }
   ],
   "source": [
    "ConnectionTwo.__dict__"
   ]
  },
  {
   "cell_type": "markdown",
   "id": "bd5e6c62-0ae9-4394-8228-cbcf7e1d455d",
   "metadata": {},
   "source": [
    "The number of items in the 'connections' key above seem to be twice the number of times that the ConnectionTwo class was instatiated (even counting runs within the Jupyter notebook)."
   ]
  },
  {
   "cell_type": "markdown",
   "id": "741eb347-521b-4e37-b673-6fcc9ccc8be2",
   "metadata": {},
   "source": [
    "Mysterious ?!"
   ]
  },
  {
   "cell_type": "code",
   "execution_count": null,
   "id": "8655bee4-f65d-4531-9667-6b82e8c3244b",
   "metadata": {},
   "outputs": [],
   "source": []
  }
 ],
 "metadata": {
  "kernelspec": {
   "display_name": "Python 3 (ipykernel)",
   "language": "python",
   "name": "python3"
  },
  "language_info": {
   "codemirror_mode": {
    "name": "ipython",
    "version": 3
   },
   "file_extension": ".py",
   "mimetype": "text/x-python",
   "name": "python",
   "nbconvert_exporter": "python",
   "pygments_lexer": "ipython3",
   "version": "3.11.2"
  }
 },
 "nbformat": 4,
 "nbformat_minor": 5
}

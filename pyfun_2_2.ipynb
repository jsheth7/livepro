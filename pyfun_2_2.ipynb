{
 "cells": [
  {
   "cell_type": "markdown",
   "id": "e6bcbaf8-4d4a-4f3c-94dd-d6b39e1e2f78",
   "metadata": {},
   "source": [
    "# Exploring Objects and Instance Methods\n",
    "\n",
    "### First Steps \n",
    "\n",
    "* Define a class called Price with a constructor that sets the part number and price\n",
    "* Define a method to return the price\n",
    "* Instantiate the class into the item_price object"
   ]
  },
  {
   "cell_type": "code",
   "execution_count": 5,
   "id": "b2fbb259-5522-4634-aa43-5ba19a469eb6",
   "metadata": {
    "tags": []
   },
   "outputs": [],
   "source": [
    "class Price:\n",
    "    def __init__(self, part_number, price):\n",
    "        self.price = price\n",
    "        self.part_number = part_number\n",
    "\n",
    "    def get_price(self):\n",
    "        return  self.price\n",
    "\n",
    "item_price = Price(10, 5)"
   ]
  },
  {
   "cell_type": "markdown",
   "id": "49e4b97f-75fd-4ff0-86be-29e21c70d5d3",
   "metadata": {},
   "source": [
    "## Explore the object's contents with the dir() method\n",
    "Notice that it prints all the methods and attribute names of the class, plus some other hidden attributes."
   ]
  },
  {
   "cell_type": "code",
   "execution_count": 6,
   "id": "c141f415-e798-45ed-b81d-98da5b2eb732",
   "metadata": {
    "tags": []
   },
   "outputs": [
    {
     "data": {
      "text/plain": [
       "['__class__',\n",
       " '__delattr__',\n",
       " '__dict__',\n",
       " '__dir__',\n",
       " '__doc__',\n",
       " '__eq__',\n",
       " '__format__',\n",
       " '__ge__',\n",
       " '__getattribute__',\n",
       " '__getstate__',\n",
       " '__gt__',\n",
       " '__hash__',\n",
       " '__init__',\n",
       " '__init_subclass__',\n",
       " '__le__',\n",
       " '__lt__',\n",
       " '__module__',\n",
       " '__ne__',\n",
       " '__new__',\n",
       " '__reduce__',\n",
       " '__reduce_ex__',\n",
       " '__repr__',\n",
       " '__setattr__',\n",
       " '__sizeof__',\n",
       " '__str__',\n",
       " '__subclasshook__',\n",
       " '__weakref__',\n",
       " 'get_price',\n",
       " 'part_number',\n",
       " 'price']"
      ]
     },
     "execution_count": 6,
     "metadata": {},
     "output_type": "execute_result"
    }
   ],
   "source": [
    "dir(item_price)"
   ]
  },
  {
   "cell_type": "markdown",
   "id": "980fbb73-4fe2-4ce0-998f-e4e4821a7441",
   "metadata": {},
   "source": [
    "The following just prints out a dictionary of the object's attributes and its values:"
   ]
  },
  {
   "cell_type": "code",
   "execution_count": 7,
   "id": "df36365b-6fb4-4e9e-8989-2f39d36497f9",
   "metadata": {
    "tags": []
   },
   "outputs": [
    {
     "data": {
      "text/plain": [
       "{'price': 5, 'part_number': 10}"
      ]
     },
     "execution_count": 7,
     "metadata": {},
     "output_type": "execute_result"
    }
   ],
   "source": [
    "item_price.__dict__"
   ]
  },
  {
   "cell_type": "markdown",
   "id": "1dc56346-c3f8-4051-8e47-6a6d5d82023f",
   "metadata": {},
   "source": [
    "Let's try the same two functions on the Price class rather than the objects:"
   ]
  },
  {
   "cell_type": "code",
   "execution_count": 16,
   "id": "5a957593-4fd6-4a77-b4fc-59a7fe844e69",
   "metadata": {
    "tags": []
   },
   "outputs": [
    {
     "data": {
      "text/plain": [
       "['__class__',\n",
       " '__delattr__',\n",
       " '__dict__',\n",
       " '__dir__',\n",
       " '__doc__',\n",
       " '__eq__',\n",
       " '__format__',\n",
       " '__ge__',\n",
       " '__getattribute__',\n",
       " '__getstate__',\n",
       " '__gt__',\n",
       " '__hash__',\n",
       " '__init__',\n",
       " '__init_subclass__',\n",
       " '__le__',\n",
       " '__lt__',\n",
       " '__module__',\n",
       " '__ne__',\n",
       " '__new__',\n",
       " '__reduce__',\n",
       " '__reduce_ex__',\n",
       " '__repr__',\n",
       " '__setattr__',\n",
       " '__sizeof__',\n",
       " '__str__',\n",
       " '__subclasshook__',\n",
       " '__weakref__',\n",
       " 'get_discount_price',\n",
       " 'get_price',\n",
       " 'set_discount']"
      ]
     },
     "execution_count": 16,
     "metadata": {},
     "output_type": "execute_result"
    }
   ],
   "source": [
    "dir(Price)"
   ]
  },
  {
   "cell_type": "code",
   "execution_count": 17,
   "id": "671882aa-58f2-451a-882e-82ef3ac21250",
   "metadata": {
    "tags": []
   },
   "outputs": [
    {
     "data": {
      "text/plain": [
       "mappingproxy({'__module__': '__main__',\n",
       "              '__init__': <function __main__.Price.__init__(self, part_number, price)>,\n",
       "              'get_price': <function __main__.Price.get_price(self)>,\n",
       "              '__dict__': <attribute '__dict__' of 'Price' objects>,\n",
       "              '__weakref__': <attribute '__weakref__' of 'Price' objects>,\n",
       "              '__doc__': None,\n",
       "              'set_discount': <function __main__.set_discount(item_price, percent_off)>,\n",
       "              'get_discount_price': <function __main__.get_discount_price(item_price)>})"
      ]
     },
     "execution_count": 17,
     "metadata": {},
     "output_type": "execute_result"
    }
   ],
   "source": [
    "Price.__dict__"
   ]
  },
  {
   "cell_type": "markdown",
   "id": "332ca547-435b-42cb-a4bb-c491aca8497c",
   "metadata": {},
   "source": [
    "The dir method appears to produce the same output in both cases.\n",
    "Price.__dict__ produces a list of methods and their signatures, and some other hidden attributes,"
   ]
  },
  {
   "cell_type": "markdown",
   "id": "4d623995-2c51-43e4-a780-564f3e58c532",
   "metadata": {},
   "source": [
    "Create two standalone functions that we will attach to our class. Ensure that each receives an instance of Price as its first parameter."
   ]
  },
  {
   "cell_type": "code",
   "execution_count": 9,
   "id": "14a8d235-910f-4954-b1c9-58915b8e1110",
   "metadata": {
    "tags": []
   },
   "outputs": [],
   "source": [
    "def set_discount(item_price, percent_off):\n",
    "    item_price.percent_off = percent_off\n",
    "    \n",
    "def get_discount_price(item_price):\n",
    "    discount = item_price.get_price() * (item_price.percent_off/100)\n",
    "    discounted_price = item_price.get_price() - discount\n",
    "    return discounted_price"
   ]
  },
  {
   "cell_type": "markdown",
   "id": "92438cb0-ab5a-41fa-bffb-1907813a7e43",
   "metadata": {},
   "source": [
    "Attach both functions to the class and see if they work as instance methods"
   ]
  },
  {
   "cell_type": "code",
   "execution_count": 10,
   "id": "b61f19ce-5666-49a7-a791-79cc82fd5ba9",
   "metadata": {
    "tags": []
   },
   "outputs": [],
   "source": [
    "Price.set_discount = set_discount\n",
    "Price.get_discount_price = get_discount_price"
   ]
  },
  {
   "cell_type": "markdown",
   "id": "bda9c682-438b-4c4c-b53a-03de5c5d1ff1",
   "metadata": {},
   "source": [
    "We have added functions to the Price class after the item_price instance was created. Would the following method calls work?"
   ]
  },
  {
   "cell_type": "code",
   "execution_count": 11,
   "id": "439e7bea-93b6-4f7a-b099-59d50c3e2438",
   "metadata": {
    "tags": []
   },
   "outputs": [
    {
     "name": "stdout",
     "output_type": "stream",
     "text": [
      "4.5\n"
     ]
    }
   ],
   "source": [
    "item_price.set_discount(10)\n",
    "discount_price = item_price.get_discount_price()\n",
    "print(discount_price)"
   ]
  },
  {
   "cell_type": "markdown",
   "id": "5d86b3b6-65a4-44b3-8fc6-3544a2e24ccc",
   "metadata": {},
   "source": [
    "Yes, this works! Each defined method, once attached to the class receives the current instance of the class (self) as its first parameter. It looks like classes in Python behave like objects themselves."
   ]
  },
  {
   "cell_type": "markdown",
   "id": "a1bd2379-d666-4e46-b819-f982883e6819",
   "metadata": {},
   "source": [
    "If you add a function to an instance instead of to the class, what happens? Does it work at all? How is its behavior different?"
   ]
  },
  {
   "cell_type": "code",
   "execution_count": 12,
   "id": "839d8825-097d-4b46-bb47-b097eb625069",
   "metadata": {
    "tags": []
   },
   "outputs": [],
   "source": [
    "def say_hello(item_price):\n",
    "    print(\"Hello! Big discount!\")\n",
    "    print(item_price.percent_off)\n"
   ]
  },
  {
   "cell_type": "code",
   "execution_count": 13,
   "id": "5a810d80-e04e-43bb-9ccd-de9107a47306",
   "metadata": {
    "tags": []
   },
   "outputs": [],
   "source": [
    "item_price.say_hello = say_hello"
   ]
  },
  {
   "cell_type": "code",
   "execution_count": 14,
   "id": "c47e42b6-c477-484b-ab61-648a30621545",
   "metadata": {
    "tags": []
   },
   "outputs": [
    {
     "ename": "TypeError",
     "evalue": "say_hello() missing 1 required positional argument: 'item_price'",
     "output_type": "error",
     "traceback": [
      "\u001b[0;31m---------------------------------------------------------------------------\u001b[0m",
      "\u001b[0;31mTypeError\u001b[0m                                 Traceback (most recent call last)",
      "Cell \u001b[0;32mIn[14], line 1\u001b[0m\n\u001b[0;32m----> 1\u001b[0m \u001b[43mitem_price\u001b[49m\u001b[38;5;241;43m.\u001b[39;49m\u001b[43msay_hello\u001b[49m\u001b[43m(\u001b[49m\u001b[43m)\u001b[49m\n",
      "\u001b[0;31mTypeError\u001b[0m: say_hello() missing 1 required positional argument: 'item_price'"
     ]
    }
   ],
   "source": [
    "item_price.say_hello()"
   ]
  },
  {
   "cell_type": "markdown",
   "id": "c1a3b908-d45a-4116-bce2-d98ce0e61217",
   "metadata": {},
   "source": [
    "The call above fails as it is not passed the copy of itself. Let's see if the following will work:"
   ]
  },
  {
   "cell_type": "code",
   "execution_count": 15,
   "id": "d76a8b42-caab-4f17-8322-0b643e205779",
   "metadata": {
    "tags": []
   },
   "outputs": [
    {
     "name": "stdout",
     "output_type": "stream",
     "text": [
      "Hello! Big discount!\n",
      "10\n"
     ]
    }
   ],
   "source": [
    "item_price.say_hello(item_price)"
   ]
  },
  {
   "cell_type": "markdown",
   "id": "9f5a67dd-0fac-44e1-a966-4cfb77eed3e7",
   "metadata": {},
   "source": [
    "That seemed to work, but is super clunky!"
   ]
  }
 ],
 "metadata": {
  "kernelspec": {
   "display_name": "Python 3 (ipykernel)",
   "language": "python",
   "name": "python3"
  },
  "language_info": {
   "codemirror_mode": {
    "name": "ipython",
    "version": 3
   },
   "file_extension": ".py",
   "mimetype": "text/x-python",
   "name": "python",
   "nbconvert_exporter": "python",
   "pygments_lexer": "ipython3",
   "version": "3.11.2"
  }
 },
 "nbformat": 4,
 "nbformat_minor": 5
}

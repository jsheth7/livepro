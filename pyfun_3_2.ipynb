{
 "cells": [
  {
   "cell_type": "markdown",
   "id": "d180292c-eb2b-41cf-8ee2-21847417b087",
   "metadata": {},
   "source": [
    "# Class Data and Methods - Part 2"
   ]
  },
  {
   "cell_type": "markdown",
   "id": "6288b315-de38-4327-8678-cec549410c16",
   "metadata": {},
   "source": [
    "### 1. Use the class's name instead of self for the conn_count."
   ]
  },
  {
   "cell_type": "code",
   "execution_count": 94,
   "id": "da41608a-d898-4f5f-b016-f2a0d5e6e401",
   "metadata": {},
   "outputs": [],
   "source": [
    "class ConnectionC:\n",
    "    port = 55000\n",
    "    conn_limit = 10\n",
    "    conn_count = 0\n",
    "    \n",
    "    def __init__(self, host):\n",
    "        # set the host for the instance\n",
    "        self.host = host\n",
    "        # set the port based on the class variable port\n",
    "        \n",
    "        # add 1 to the class's connection_count\n",
    "        if ConnectionC.conn_count < ConnectionC.conn_limit:\n",
    "            ConnectionC.conn_count += 1\n",
    "        \n",
    "        self.port = self.port + ConnectionC.conn_count\n",
    "\n",
    "    def close(self):\n",
    "        # reduce the class's connection_count by 1\n",
    "        # self.conn_count -= 1\n",
    "        ConnectionC.conn_count = ConnectionC.conn_count - 1\n",
    "        \n",
    "    def __repr__(self):\n",
    "        return f\"{self.host}, {self.port}\""
   ]
  },
  {
   "cell_type": "code",
   "execution_count": 95,
   "id": "3380a25f-0224-4231-b80f-2c2f29160089",
   "metadata": {
    "tags": []
   },
   "outputs": [
    {
     "data": {
      "text/plain": [
       "{'host': 'localhost', 'port': 55001}"
      ]
     },
     "execution_count": 95,
     "metadata": {},
     "output_type": "execute_result"
    }
   ],
   "source": [
    "connect = ConnectionC('localhost')\n",
    "connect.__dict__"
   ]
  },
  {
   "cell_type": "code",
   "execution_count": 99,
   "id": "2fb448b9-0465-4544-8a58-1e679617788e",
   "metadata": {
    "tags": []
   },
   "outputs": [],
   "source": [
    "connect.close()"
   ]
  },
  {
   "cell_type": "code",
   "execution_count": 100,
   "id": "9771a6bd-2f93-42b9-a5e6-bff85311336b",
   "metadata": {
    "tags": []
   },
   "outputs": [
    {
     "data": {
      "text/plain": [
       "{'host': 'localhost', 'port': 55001}"
      ]
     },
     "execution_count": 100,
     "metadata": {},
     "output_type": "execute_result"
    }
   ],
   "source": [
    "connect.__dict__"
   ]
  },
  {
   "cell_type": "code",
   "execution_count": 101,
   "id": "a5e3f81b-057b-4da0-a961-6669fa2e64d8",
   "metadata": {
    "tags": []
   },
   "outputs": [
    {
     "data": {
      "text/plain": [
       "mappingproxy({'__module__': '__main__',\n",
       "              'port': 55000,\n",
       "              'conn_limit': 10,\n",
       "              'conn_count': -3,\n",
       "              '__init__': <function __main__.ConnectionC.__init__(self, host)>,\n",
       "              'close': <function __main__.ConnectionC.close(self)>,\n",
       "              '__repr__': <function __main__.ConnectionC.__repr__(self)>,\n",
       "              '__dict__': <attribute '__dict__' of 'ConnectionC' objects>,\n",
       "              '__weakref__': <attribute '__weakref__' of 'ConnectionC' objects>,\n",
       "              '__doc__': None})"
      ]
     },
     "execution_count": 101,
     "metadata": {},
     "output_type": "execute_result"
    }
   ],
   "source": [
    "ConnectionC.__dict__"
   ]
  },
  {
   "cell_type": "markdown",
   "id": "11d94b09-8686-442e-bef2-67113c77cdad",
   "metadata": {},
   "source": [
    "Each time I run connect.close(), it decrements conn_count. In this case, since I rand connect.close() three times in the notebook, it's set to -3."
   ]
  },
  {
   "cell_type": "code",
   "execution_count": 102,
   "id": "0cf70f6c-208b-44ed-a975-78a3183a5516",
   "metadata": {
    "tags": []
   },
   "outputs": [
    {
     "data": {
      "text/plain": [
       "{'host': 'localhost', 'port': 54998}"
      ]
     },
     "execution_count": 102,
     "metadata": {},
     "output_type": "execute_result"
    }
   ],
   "source": [
    "connect2 = ConnectionC('localhost')\n",
    "connect2.__dict__"
   ]
  },
  {
   "cell_type": "markdown",
   "id": "bbc4facc-2a96-49b4-a74a-9dc505dba3e5",
   "metadata": {},
   "source": [
    "When using referencing conn_limit as a class variable, this works differently than if we had used it as an instance variable. \n",
    "Each time this is run, it increments the port by 1. But the odd side effect is that the port here is 54998, because I ran connect.close() more than once."
   ]
  },
  {
   "cell_type": "markdown",
   "id": "49b6479d-4dd1-401b-b038-7f52748470d0",
   "metadata": {},
   "source": [
    "### 2. Working with subclasses"
   ]
  },
  {
   "cell_type": "code",
   "execution_count": 109,
   "id": "5454f181-40ea-4355-a729-024341ef02dc",
   "metadata": {
    "tags": []
   },
   "outputs": [],
   "source": [
    "class ConnectionCa(ConnectionC):\n",
    "    pass"
   ]
  },
  {
   "cell_type": "markdown",
   "id": "9a7bb027-58ee-4f86-b2bb-d8e83d3810c8",
   "metadata": {},
   "source": [
    "I created a subclass of ConnectionCa here"
   ]
  },
  {
   "cell_type": "code",
   "execution_count": 110,
   "id": "42e7ee84-dbd2-4e75-a6ea-fc361ee95785",
   "metadata": {
    "tags": []
   },
   "outputs": [
    {
     "data": {
      "text/plain": [
       "{'host': 'localhost', 'port': 54999}"
      ]
     },
     "execution_count": 110,
     "metadata": {},
     "output_type": "execute_result"
    }
   ],
   "source": [
    "connectCa1 = ConnectionCa('localhost')\n",
    "connectCa1.__dict__"
   ]
  },
  {
   "cell_type": "markdown",
   "id": "085124aa-1549-4f5e-912a-2bae67a08e57",
   "metadata": {},
   "source": [
    "That's quite odd ... it's incrementing the instance variable used in the previous class for the port. It does not start from port 55000."
   ]
  },
  {
   "cell_type": "code",
   "execution_count": 111,
   "id": "2141e66a-8bd7-4fa3-a614-f5d846a80ce2",
   "metadata": {
    "tags": []
   },
   "outputs": [
    {
     "data": {
      "text/plain": [
       "mappingproxy({'__module__': '__main__', '__doc__': None})"
      ]
     },
     "execution_count": 111,
     "metadata": {},
     "output_type": "execute_result"
    }
   ],
   "source": [
    "ConnectionCa.__dict__"
   ]
  },
  {
   "cell_type": "markdown",
   "id": "7b44a8cf-7dbd-421e-8be1-51de89b836c2",
   "metadata": {
    "tags": []
   },
   "source": [
    "### 3. Using \"__ class __\" instead of the class's hardcoded name"
   ]
  },
  {
   "cell_type": "code",
   "execution_count": 103,
   "id": "d10e3bd0-3999-48a3-9b99-7e1b8def5596",
   "metadata": {
    "tags": []
   },
   "outputs": [],
   "source": [
    "class ConnectionD:\n",
    "    port = 55000\n",
    "    conn_limit = 10\n",
    "    conn_count = 0\n",
    "    \n",
    "    def __init__(self, host):\n",
    "        # set the host for the instance\n",
    "        self.host = host\n",
    "        # set the port based on the class variable port\n",
    "        \n",
    "        # add 1 to the class's connection_count\n",
    "        if __class__.conn_count < __class__.conn_limit:\n",
    "            __class__.conn_count += 1\n",
    "        \n",
    "        self.port = self.port + __class__.conn_count\n",
    "\n",
    "    def close(self):\n",
    "        # reduce the class's connection_count by 1\n",
    "        # self.conn_count -= 1\n",
    "        __class__.conn_count = __class__.conn_count - 1\n",
    "        \n",
    "    def __repr__(self):\n",
    "        return f\"{self.host}, {self.port}\""
   ]
  },
  {
   "cell_type": "code",
   "execution_count": 104,
   "id": "8d9a0d14-ef2c-4181-9c5c-f4adeb607b86",
   "metadata": {
    "tags": []
   },
   "outputs": [
    {
     "data": {
      "text/plain": [
       "{'host': 'localhost', 'port': 55001}"
      ]
     },
     "execution_count": 104,
     "metadata": {},
     "output_type": "execute_result"
    }
   ],
   "source": [
    "connectD = ConnectionD('localhost')\n",
    "connectD.__dict__"
   ]
  },
  {
   "cell_type": "markdown",
   "id": "2d141f26-7b7a-4d51-8cb6-8e759c8493d2",
   "metadata": {},
   "source": [
    "It seemed to work when we used __class__"
   ]
  },
  {
   "cell_type": "code",
   "execution_count": 105,
   "id": "a6acedd3-30b8-4ffc-b556-a07410a81a24",
   "metadata": {
    "tags": []
   },
   "outputs": [
    {
     "data": {
      "text/plain": [
       "{'host': 'localhost', 'port': 55002}"
      ]
     },
     "execution_count": 105,
     "metadata": {},
     "output_type": "execute_result"
    }
   ],
   "source": [
    "connectD2 = ConnectionD('localhost')\n",
    "connectD2.__dict__"
   ]
  },
  {
   "cell_type": "code",
   "execution_count": 106,
   "id": "ad4120f2-3ee9-4229-ae0b-263ba115122b",
   "metadata": {
    "tags": []
   },
   "outputs": [
    {
     "name": "stdout",
     "output_type": "stream",
     "text": [
      "localhost, 55001\n",
      "localhost, 55002\n"
     ]
    }
   ],
   "source": [
    "print(connectD)\n",
    "print(connectD2)"
   ]
  },
  {
   "cell_type": "code",
   "execution_count": 108,
   "id": "dfd22cb9-e471-4e53-a7b2-3efae4f03665",
   "metadata": {
    "tags": []
   },
   "outputs": [
    {
     "data": {
      "text/plain": [
       "mappingproxy({'__module__': '__main__',\n",
       "              'port': 55000,\n",
       "              'conn_limit': 10,\n",
       "              'conn_count': 2,\n",
       "              '__init__': <function __main__.ConnectionD.__init__(self, host)>,\n",
       "              'close': <function __main__.ConnectionD.close(self)>,\n",
       "              '__repr__': <function __main__.ConnectionD.__repr__(self)>,\n",
       "              '__dict__': <attribute '__dict__' of 'ConnectionD' objects>,\n",
       "              '__weakref__': <attribute '__weakref__' of 'ConnectionD' objects>,\n",
       "              '__doc__': None})"
      ]
     },
     "execution_count": 108,
     "metadata": {},
     "output_type": "execute_result"
    }
   ],
   "source": [
    "ConnectionD.__dict__"
   ]
  },
  {
   "cell_type": "markdown",
   "id": "e8bd496a-a303-48e8-8ccc-ce0cc1c15f48",
   "metadata": {},
   "source": [
    "### Using class methods (@classmethod decorator)"
   ]
  },
  {
   "cell_type": "code",
   "execution_count": 128,
   "id": "401de2f8-e0bd-4414-958f-689e79489b47",
   "metadata": {
    "tags": []
   },
   "outputs": [],
   "source": [
    "class ConnectionCM1:\n",
    "    port = 55000\n",
    "    conn_limit = 10\n",
    "    conn_count = 0\n",
    "    host = ''\n",
    "    \n",
    "    @classmethod\n",
    "    def get_next_port(cls):\n",
    "        return cls.port + 1\n",
    "        \n",
    "    @classmethod\n",
    "    def add_connection(cls, host):\n",
    "        cls.host = host\n",
    "        \n",
    "        # add 1 to the class's connection_count\n",
    "        if cls.conn_count < cls.conn_limit:\n",
    "            cls.conn_count += 1\n",
    "        \n",
    "        cls.port = cls.get_next_port()\n",
    "        \n",
    "    @classmethod\n",
    "    def remove_connection(cls):\n",
    "        # reduce the class's connection_count by 1\n",
    "        cls.conn_count = cls.conn_count - 1\n",
    "        \n",
    "    @classmethod\n",
    "    def get_connection_count(cls):\n",
    "        return cls.conn_count\n",
    "        "
   ]
  },
  {
   "cell_type": "code",
   "execution_count": 129,
   "id": "3a868995-3f85-476a-a541-9a8286d330ae",
   "metadata": {
    "tags": []
   },
   "outputs": [
    {
     "data": {
      "text/plain": [
       "mappingproxy({'__module__': '__main__',\n",
       "              'port': 55001,\n",
       "              'conn_limit': 10,\n",
       "              'conn_count': 1,\n",
       "              'host': 'localhost',\n",
       "              'get_next_port': <classmethod(<function ConnectionCM1.get_next_port at 0x108373420>)>,\n",
       "              'add_connection': <classmethod(<function ConnectionCM1.add_connection at 0x1083737e0>)>,\n",
       "              'remove_connection': <classmethod(<function ConnectionCM1.remove_connection at 0x108372520>)>,\n",
       "              'get_connection_count': <classmethod(<function ConnectionCM1.get_connection_count at 0x1083736a0>)>,\n",
       "              '__dict__': <attribute '__dict__' of 'ConnectionCM1' objects>,\n",
       "              '__weakref__': <attribute '__weakref__' of 'ConnectionCM1' objects>,\n",
       "              '__doc__': None})"
      ]
     },
     "execution_count": 129,
     "metadata": {},
     "output_type": "execute_result"
    }
   ],
   "source": [
    "ConnectionCM1.add_connection('localhost')\n",
    "ConnectionCM1.__dict__"
   ]
  },
  {
   "cell_type": "code",
   "execution_count": 131,
   "id": "f904f2f3-acda-4a4e-b571-c3a80514a830",
   "metadata": {
    "tags": []
   },
   "outputs": [
    {
     "data": {
      "text/plain": [
       "mappingproxy({'__module__': '__main__',\n",
       "              'port': 55002,\n",
       "              'conn_limit': 10,\n",
       "              'conn_count': 2,\n",
       "              'host': 'localhost',\n",
       "              'get_next_port': <classmethod(<function ConnectionCM1.get_next_port at 0x108373420>)>,\n",
       "              'add_connection': <classmethod(<function ConnectionCM1.add_connection at 0x1083737e0>)>,\n",
       "              'remove_connection': <classmethod(<function ConnectionCM1.remove_connection at 0x108372520>)>,\n",
       "              'get_connection_count': <classmethod(<function ConnectionCM1.get_connection_count at 0x1083736a0>)>,\n",
       "              '__dict__': <attribute '__dict__' of 'ConnectionCM1' objects>,\n",
       "              '__weakref__': <attribute '__weakref__' of 'ConnectionCM1' objects>,\n",
       "              '__doc__': None})"
      ]
     },
     "execution_count": 131,
     "metadata": {},
     "output_type": "execute_result"
    }
   ],
   "source": [
    "ConnectionCM1.add_connection('localhost')\n",
    "ConnectionCM1.__dict__"
   ]
  },
  {
   "cell_type": "code",
   "execution_count": 132,
   "id": "c99081a4-cd53-41a2-bd91-b315b843e9ed",
   "metadata": {
    "tags": []
   },
   "outputs": [
    {
     "data": {
      "text/plain": [
       "mappingproxy({'__module__': '__main__',\n",
       "              'port': 55002,\n",
       "              'conn_limit': 10,\n",
       "              'conn_count': 1,\n",
       "              'host': 'localhost',\n",
       "              'get_next_port': <classmethod(<function ConnectionCM1.get_next_port at 0x108373420>)>,\n",
       "              'add_connection': <classmethod(<function ConnectionCM1.add_connection at 0x1083737e0>)>,\n",
       "              'remove_connection': <classmethod(<function ConnectionCM1.remove_connection at 0x108372520>)>,\n",
       "              'get_connection_count': <classmethod(<function ConnectionCM1.get_connection_count at 0x1083736a0>)>,\n",
       "              '__dict__': <attribute '__dict__' of 'ConnectionCM1' objects>,\n",
       "              '__weakref__': <attribute '__weakref__' of 'ConnectionCM1' objects>,\n",
       "              '__doc__': None})"
      ]
     },
     "execution_count": 132,
     "metadata": {},
     "output_type": "execute_result"
    }
   ],
   "source": [
    "ConnectionCM1.remove_connection()\n",
    "ConnectionCM1.__dict__"
   ]
  },
  {
   "cell_type": "code",
   "execution_count": 127,
   "id": "4079617e-b359-4626-853c-8e8023c1c46f",
   "metadata": {
    "tags": []
   },
   "outputs": [
    {
     "data": {
      "text/plain": [
       "mappingproxy({'__module__': '__main__',\n",
       "              'port': 55006,\n",
       "              'conn_limit': 10,\n",
       "              'conn_count': 1,\n",
       "              'host': 'localhost',\n",
       "              'get_next_port': <classmethod(<function ConnectionCM.get_next_port at 0x1083725c0>)>,\n",
       "              'add_connection': <classmethod(<function ConnectionCM.add_connection at 0x108373e20>)>,\n",
       "              'remove_connection': <classmethod(<function ConnectionCM.remove_connection at 0x108373920>)>,\n",
       "              'get_connection_count': <classmethod(<function ConnectionCM.get_connection_count at 0x108373b00>)>,\n",
       "              '__dict__': <attribute '__dict__' of 'ConnectionCM' objects>,\n",
       "              '__weakref__': <attribute '__weakref__' of 'ConnectionCM' objects>,\n",
       "              '__doc__': None})"
      ]
     },
     "execution_count": 127,
     "metadata": {},
     "output_type": "execute_result"
    }
   ],
   "source": [
    "ConnectionCM.remove_connection()\n",
    "ConnectionCM.__dict__"
   ]
  },
  {
   "cell_type": "code",
   "execution_count": null,
   "id": "884d689f-5c4e-4a5c-a36b-290f64b181d7",
   "metadata": {},
   "outputs": [],
   "source": []
  }
 ],
 "metadata": {
  "kernelspec": {
   "display_name": "Python 3 (ipykernel)",
   "language": "python",
   "name": "python3"
  },
  "language_info": {
   "codemirror_mode": {
    "name": "ipython",
    "version": 3
   },
   "file_extension": ".py",
   "mimetype": "text/x-python",
   "name": "python",
   "nbconvert_exporter": "python",
   "pygments_lexer": "ipython3",
   "version": "3.11.2"
  }
 },
 "nbformat": 4,
 "nbformat_minor": 5
}

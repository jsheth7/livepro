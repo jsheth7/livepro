{
 "cells": [
  {
   "cell_type": "markdown",
   "id": "d180292c-eb2b-41cf-8ee2-21847417b087",
   "metadata": {},
   "source": [
    "# Class Data and Methods - Part 2"
   ]
  },
  {
   "cell_type": "markdown",
   "id": "eb6f8309-53f6-4ff0-b4e6-5b6d128261ef",
   "metadata": {},
   "source": [
    "### 0. Define a method to unset classes and objects (to help with running code blocks multiple times)"
   ]
  },
  {
   "cell_type": "code",
   "execution_count": 44,
   "id": "1f3f0648-fa35-445f-abc8-72cad42de679",
   "metadata": {
    "tags": []
   },
   "outputs": [],
   "source": [
    "def unset(varname):\n",
    "    \"\"\"\n",
    "    Unsets a global variable from memory. Helpful when we are running code blocks in Jupyter multiple times.\n",
    "    \"\"\"\n",
    "    try:\n",
    "        del globals()[varname]\n",
    "        print('deleted ' + varname)\n",
    "    except:\n",
    "        print(varname + ' does not exist')"
   ]
  },
  {
   "cell_type": "markdown",
   "id": "6288b315-de38-4327-8678-cec549410c16",
   "metadata": {},
   "source": [
    "### 1. Use the class's name instead of self for the conn_count."
   ]
  },
  {
   "cell_type": "code",
   "execution_count": 103,
   "id": "3380a25f-0224-4231-b80f-2c2f29160089",
   "metadata": {
    "tags": []
   },
   "outputs": [
    {
     "name": "stdout",
     "output_type": "stream",
     "text": [
      "ConnectionC does not exist\n",
      "connect does not exist\n",
      "connect2 does not exist\n",
      "connect3 does not exist\n",
      "connect4 does not exist\n",
      "deleted connect5\n"
     ]
    }
   ],
   "source": [
    "unset('ConnectionC')\n",
    "unset('connect')\n",
    "unset('connect2')\n",
    "unset('connect3')\n",
    "unset('connect4')\n",
    "unset('connect5')"
   ]
  },
  {
   "cell_type": "code",
   "execution_count": 104,
   "id": "da41608a-d898-4f5f-b016-f2a0d5e6e401",
   "metadata": {},
   "outputs": [],
   "source": [
    "class ConnectionC:\n",
    "    port = 55000\n",
    "    conn_limit = 10\n",
    "    conn_count = 0\n",
    "    \n",
    "    def __init__(self, host):\n",
    "        # set the host for the instance\n",
    "        self.host = host\n",
    "        # set the port based on the class variable port\n",
    "        \n",
    "        # add 1 to the class's connection_count\n",
    "        if ConnectionC.conn_count < ConnectionC.conn_limit:\n",
    "            ConnectionC.conn_count += 1\n",
    "        \n",
    "        self.port = self.port + ConnectionC.conn_count\n",
    "\n",
    "    def close(self):\n",
    "        # reduce the class's connection_count by 1\n",
    "        # self.conn_count -= 1\n",
    "        ConnectionC.conn_count = ConnectionC.conn_count - 1\n",
    "        \n",
    "    def __repr__(self):\n",
    "        return f\"{self.host}, {self.port}\""
   ]
  },
  {
   "cell_type": "code",
   "execution_count": 105,
   "id": "25ec756e-f4cc-4b19-85e0-707efb5ff50d",
   "metadata": {
    "tags": []
   },
   "outputs": [],
   "source": [
    "connect = ConnectionC('localhost')"
   ]
  },
  {
   "cell_type": "code",
   "execution_count": 106,
   "id": "d26b168c-a1aa-4772-b212-d280edffee51",
   "metadata": {
    "tags": []
   },
   "outputs": [
    {
     "data": {
      "text/plain": [
       "{'host': 'localhost', 'port': 55001}"
      ]
     },
     "execution_count": 106,
     "metadata": {},
     "output_type": "execute_result"
    }
   ],
   "source": [
    "connect.__dict__"
   ]
  },
  {
   "cell_type": "code",
   "execution_count": 109,
   "id": "4754bc37-dd42-421e-a7be-e854c86b0be1",
   "metadata": {
    "tags": []
   },
   "outputs": [
    {
     "data": {
      "text/plain": [
       "mappingproxy({'__module__': '__main__',\n",
       "              'port': 55000,\n",
       "              'conn_limit': 10,\n",
       "              'conn_count': 0,\n",
       "              '__init__': <function __main__.ConnectionC.__init__(self, host)>,\n",
       "              'close': <function __main__.ConnectionC.close(self)>,\n",
       "              '__repr__': <function __main__.ConnectionC.__repr__(self)>,\n",
       "              '__dict__': <attribute '__dict__' of 'ConnectionC' objects>,\n",
       "              '__weakref__': <attribute '__weakref__' of 'ConnectionC' objects>,\n",
       "              '__doc__': None})"
      ]
     },
     "execution_count": 109,
     "metadata": {},
     "output_type": "execute_result"
    }
   ],
   "source": [
    "ConnectionC.__dict__"
   ]
  },
  {
   "cell_type": "markdown",
   "id": "a6ba44be-1e5e-4ab1-b8b9-db8cc562c0e5",
   "metadata": {},
   "source": [
    "The class variable port return 55000, whereas the instance variable port returns 55001"
   ]
  },
  {
   "cell_type": "code",
   "execution_count": 107,
   "id": "2fb448b9-0465-4544-8a58-1e679617788e",
   "metadata": {
    "tags": []
   },
   "outputs": [],
   "source": [
    "connect.close()"
   ]
  },
  {
   "cell_type": "markdown",
   "id": "11d94b09-8686-442e-bef2-67113c77cdad",
   "metadata": {},
   "source": [
    "Each time I run connect.close(), it decrements conn_count. It is currently set to 0 after connect.close() was run once.\n",
    "Interestingly, the class variable port still says 55000."
   ]
  },
  {
   "cell_type": "code",
   "execution_count": 110,
   "id": "ad4d12f0-89c8-4b58-a69b-6cae6b5cef2f",
   "metadata": {
    "tags": []
   },
   "outputs": [],
   "source": [
    "connect.close()"
   ]
  },
  {
   "cell_type": "code",
   "execution_count": 111,
   "id": "cede7ba2-5612-4ad8-bd2b-28cc800e111a",
   "metadata": {
    "tags": []
   },
   "outputs": [
    {
     "data": {
      "text/plain": [
       "mappingproxy({'__module__': '__main__',\n",
       "              'port': 55000,\n",
       "              'conn_limit': 10,\n",
       "              'conn_count': -1,\n",
       "              '__init__': <function __main__.ConnectionC.__init__(self, host)>,\n",
       "              'close': <function __main__.ConnectionC.close(self)>,\n",
       "              '__repr__': <function __main__.ConnectionC.__repr__(self)>,\n",
       "              '__dict__': <attribute '__dict__' of 'ConnectionC' objects>,\n",
       "              '__weakref__': <attribute '__weakref__' of 'ConnectionC' objects>,\n",
       "              '__doc__': None})"
      ]
     },
     "execution_count": 111,
     "metadata": {},
     "output_type": "execute_result"
    }
   ],
   "source": [
    "ConnectionC.__dict__"
   ]
  },
  {
   "cell_type": "markdown",
   "id": "c2448ade-1bfc-4116-b443-974da500ab81",
   "metadata": {},
   "source": [
    "^ When I ran connect.close() a second time, it decremented the class variable conn_count by one, setting it to -1\n",
    "What would happen if I created a second instance of the ConnectionC class?"
   ]
  },
  {
   "cell_type": "code",
   "execution_count": 113,
   "id": "1c970acc-eaaa-4eef-b94d-a2785bc78f8a",
   "metadata": {
    "tags": []
   },
   "outputs": [
    {
     "data": {
      "text/plain": [
       "{'host': 'localhost', 'port': 55001}"
      ]
     },
     "execution_count": 113,
     "metadata": {},
     "output_type": "execute_result"
    }
   ],
   "source": [
    "connect.__dict__"
   ]
  },
  {
   "cell_type": "code",
   "execution_count": 114,
   "id": "0cf70f6c-208b-44ed-a975-78a3183a5516",
   "metadata": {
    "tags": []
   },
   "outputs": [
    {
     "data": {
      "text/plain": [
       "{'host': 'localhost', 'port': 55000}"
      ]
     },
     "execution_count": 114,
     "metadata": {},
     "output_type": "execute_result"
    }
   ],
   "source": [
    "connect2 = ConnectionC('localhost')\n",
    "connect2.__dict__"
   ]
  },
  {
   "cell_type": "markdown",
   "id": "6a2caf32-13a9-4e11-8d31-d809d2efe750",
   "metadata": {},
   "source": [
    "The port went down here due to conn_count being -1."
   ]
  },
  {
   "cell_type": "code",
   "execution_count": 115,
   "id": "2b3fab48-f327-4ab6-a2d9-199f40ef0656",
   "metadata": {
    "tags": []
   },
   "outputs": [
    {
     "data": {
      "text/plain": [
       "mappingproxy({'__module__': '__main__',\n",
       "              'port': 55000,\n",
       "              'conn_limit': 10,\n",
       "              'conn_count': 0,\n",
       "              '__init__': <function __main__.ConnectionC.__init__(self, host)>,\n",
       "              'close': <function __main__.ConnectionC.close(self)>,\n",
       "              '__repr__': <function __main__.ConnectionC.__repr__(self)>,\n",
       "              '__dict__': <attribute '__dict__' of 'ConnectionC' objects>,\n",
       "              '__weakref__': <attribute '__weakref__' of 'ConnectionC' objects>,\n",
       "              '__doc__': None})"
      ]
     },
     "execution_count": 115,
     "metadata": {},
     "output_type": "execute_result"
    }
   ],
   "source": [
    "ConnectionC.__dict__"
   ]
  },
  {
   "cell_type": "code",
   "execution_count": 116,
   "id": "6421748b-e40d-4e5d-8bd0-4be0a01eaa53",
   "metadata": {
    "tags": []
   },
   "outputs": [
    {
     "data": {
      "text/plain": [
       "{'host': 'localhost', 'port': 55001}"
      ]
     },
     "execution_count": 116,
     "metadata": {},
     "output_type": "execute_result"
    }
   ],
   "source": [
    "connect3 = ConnectionC('localhost')\n",
    "connect3.__dict__"
   ]
  },
  {
   "cell_type": "code",
   "execution_count": 117,
   "id": "45c07f37-d662-43b3-8e3f-aab37cd27e57",
   "metadata": {
    "tags": []
   },
   "outputs": [
    {
     "data": {
      "text/plain": [
       "mappingproxy({'__module__': '__main__',\n",
       "              'port': 55000,\n",
       "              'conn_limit': 10,\n",
       "              'conn_count': 1,\n",
       "              '__init__': <function __main__.ConnectionC.__init__(self, host)>,\n",
       "              'close': <function __main__.ConnectionC.close(self)>,\n",
       "              '__repr__': <function __main__.ConnectionC.__repr__(self)>,\n",
       "              '__dict__': <attribute '__dict__' of 'ConnectionC' objects>,\n",
       "              '__weakref__': <attribute '__weakref__' of 'ConnectionC' objects>,\n",
       "              '__doc__': None})"
      ]
     },
     "execution_count": 117,
     "metadata": {},
     "output_type": "execute_result"
    }
   ],
   "source": [
    "ConnectionC.__dict__"
   ]
  },
  {
   "cell_type": "code",
   "execution_count": 118,
   "id": "d6a6d34e-15da-4387-b4ef-dbdf8cd54af5",
   "metadata": {
    "tags": []
   },
   "outputs": [
    {
     "data": {
      "text/plain": [
       "{'host': 'localhost', 'port': 55002}"
      ]
     },
     "execution_count": 118,
     "metadata": {},
     "output_type": "execute_result"
    }
   ],
   "source": [
    "connect4 = ConnectionC('localhost')\n",
    "connect4.__dict__"
   ]
  },
  {
   "cell_type": "code",
   "execution_count": 119,
   "id": "4014cc65-c397-4e06-9e99-a682fe15dbb8",
   "metadata": {
    "tags": []
   },
   "outputs": [],
   "source": [
    "connect2.close()\n",
    "connect3.close()\n",
    "connect4.close()\n",
    "connect4.close()"
   ]
  },
  {
   "cell_type": "code",
   "execution_count": 120,
   "id": "b88b16a6-b898-477a-9ae1-aa2060e20307",
   "metadata": {
    "tags": []
   },
   "outputs": [
    {
     "data": {
      "text/plain": [
       "mappingproxy({'__module__': '__main__',\n",
       "              'port': 55000,\n",
       "              'conn_limit': 10,\n",
       "              'conn_count': -2,\n",
       "              '__init__': <function __main__.ConnectionC.__init__(self, host)>,\n",
       "              'close': <function __main__.ConnectionC.close(self)>,\n",
       "              '__repr__': <function __main__.ConnectionC.__repr__(self)>,\n",
       "              '__dict__': <attribute '__dict__' of 'ConnectionC' objects>,\n",
       "              '__weakref__': <attribute '__weakref__' of 'ConnectionC' objects>,\n",
       "              '__doc__': None})"
      ]
     },
     "execution_count": 120,
     "metadata": {},
     "output_type": "execute_result"
    }
   ],
   "source": [
    "ConnectionC.__dict__"
   ]
  },
  {
   "cell_type": "code",
   "execution_count": 121,
   "id": "32661922-63f8-48b7-9343-5174596e9baf",
   "metadata": {
    "tags": []
   },
   "outputs": [
    {
     "data": {
      "text/plain": [
       "{'host': 'localhost', 'port': 55002}"
      ]
     },
     "execution_count": 121,
     "metadata": {},
     "output_type": "execute_result"
    }
   ],
   "source": [
    "connect4.__dict__"
   ]
  },
  {
   "cell_type": "code",
   "execution_count": 122,
   "id": "93b9f19e-8149-49d9-a106-2d5728280a47",
   "metadata": {
    "tags": []
   },
   "outputs": [],
   "source": [
    "connect5 = ConnectionC('localhost')"
   ]
  },
  {
   "cell_type": "code",
   "execution_count": 123,
   "id": "3d4b9b9b-998d-4df3-b783-bebdf1d8b827",
   "metadata": {
    "tags": []
   },
   "outputs": [
    {
     "data": {
      "text/plain": [
       "{'host': 'localhost', 'port': 54999}"
      ]
     },
     "execution_count": 123,
     "metadata": {},
     "output_type": "execute_result"
    }
   ],
   "source": [
    "connect5.__dict__"
   ]
  },
  {
   "cell_type": "markdown",
   "id": "94f13dc3-8448-411a-9c44-8f19b7343ad6",
   "metadata": {},
   "source": [
    "^ It's odd that the port number above is 54999. This is because I called the close() method on previous objects multiple times. Each time I ran the close() instance method, it decremented the class_count class variable. This in turn affected the calculated port when a new instance was instantiated, because in the constructor, we add the port instance variable to the class_count class variable. By adding a negative value, it subtracts from the minimum port value of 55000, instead of adding to it.\n",
    "Conclusion: class variables seem to be shared across instances. While this could be useful, it could also be very complicated, confusing and buggy if not used correctly."
   ]
  },
  {
   "cell_type": "markdown",
   "id": "49b6479d-4dd1-401b-b038-7f52748470d0",
   "metadata": {},
   "source": [
    "### 2. Working with subclasses"
   ]
  },
  {
   "cell_type": "code",
   "execution_count": 124,
   "id": "5454f181-40ea-4355-a729-024341ef02dc",
   "metadata": {
    "tags": []
   },
   "outputs": [],
   "source": [
    "class ConnectionCa(ConnectionC):\n",
    "    pass"
   ]
  },
  {
   "cell_type": "markdown",
   "id": "9a7bb027-58ee-4f86-b2bb-d8e83d3810c8",
   "metadata": {},
   "source": [
    "I created a subclass of ConnectionC here"
   ]
  },
  {
   "cell_type": "code",
   "execution_count": 81,
   "id": "42e7ee84-dbd2-4e75-a6ea-fc361ee95785",
   "metadata": {
    "tags": []
   },
   "outputs": [
    {
     "name": "stdout",
     "output_type": "stream",
     "text": [
      "ConnectionCa does not exist\n"
     ]
    }
   ],
   "source": [
    "unset('ConnectionCa')"
   ]
  },
  {
   "cell_type": "code",
   "execution_count": 125,
   "id": "5456d273-6f91-4e56-87f0-2e2670955317",
   "metadata": {
    "tags": []
   },
   "outputs": [
    {
     "data": {
      "text/plain": [
       "{'host': 'localhost', 'port': 55000}"
      ]
     },
     "execution_count": 125,
     "metadata": {},
     "output_type": "execute_result"
    }
   ],
   "source": [
    "connectCa1 = ConnectionCa('localhost')\n",
    "connectCa1.__dict__"
   ]
  },
  {
   "cell_type": "code",
   "execution_count": 126,
   "id": "2141e66a-8bd7-4fa3-a614-f5d846a80ce2",
   "metadata": {
    "tags": []
   },
   "outputs": [
    {
     "data": {
      "text/plain": [
       "mappingproxy({'__module__': '__main__', '__doc__': None})"
      ]
     },
     "execution_count": 126,
     "metadata": {},
     "output_type": "execute_result"
    }
   ],
   "source": [
    "ConnectionCa.__dict__"
   ]
  },
  {
   "cell_type": "code",
   "execution_count": 127,
   "id": "f766790f-3d2d-459c-bd3d-f02d4c1718bd",
   "metadata": {
    "tags": []
   },
   "outputs": [],
   "source": [
    "connectCa2 = ConnectionCa('localhost')"
   ]
  },
  {
   "cell_type": "code",
   "execution_count": 128,
   "id": "bf2f85ae-adcc-4482-abb2-63f5a81b3a85",
   "metadata": {
    "tags": []
   },
   "outputs": [
    {
     "data": {
      "text/plain": [
       "{'host': 'localhost', 'port': 55001}"
      ]
     },
     "execution_count": 128,
     "metadata": {},
     "output_type": "execute_result"
    }
   ],
   "source": [
    "connectCa2.__dict__"
   ]
  },
  {
   "cell_type": "code",
   "execution_count": 129,
   "id": "b2433a0d-537d-41d7-a6ac-13cd17349031",
   "metadata": {
    "tags": []
   },
   "outputs": [
    {
     "data": {
      "text/plain": [
       "mappingproxy({'__module__': '__main__', '__doc__': None})"
      ]
     },
     "execution_count": 129,
     "metadata": {},
     "output_type": "execute_result"
    }
   ],
   "source": [
    "ConnectionCa.__dict__"
   ]
  },
  {
   "cell_type": "markdown",
   "id": "8db0ea28-21f6-4a34-b880-dfcdd92aab39",
   "metadata": {},
   "source": [
    "^ ConnectionCa (the subclass), doesn't copy the class variables from the parent (it seems to inherit them)"
   ]
  },
  {
   "cell_type": "code",
   "execution_count": 130,
   "id": "c85afb93-12ca-4f2d-b229-afb399981b3f",
   "metadata": {
    "tags": []
   },
   "outputs": [],
   "source": [
    "connect5.close()"
   ]
  },
  {
   "cell_type": "markdown",
   "id": "b6dd5efa-f53f-4ecf-a4ef-4e4ae356023a",
   "metadata": {},
   "source": [
    "^ Call the close() method on the instance defined in section 1."
   ]
  },
  {
   "cell_type": "code",
   "execution_count": 131,
   "id": "b8f03b55-3f3c-41a8-9140-5d7e4cebfd86",
   "metadata": {
    "tags": []
   },
   "outputs": [],
   "source": [
    "connectCa3 = ConnectionCa('localhost')"
   ]
  },
  {
   "cell_type": "code",
   "execution_count": 132,
   "id": "0e0905ab-254e-4edd-832a-22eca501a7d3",
   "metadata": {
    "tags": []
   },
   "outputs": [
    {
     "data": {
      "text/plain": [
       "{'host': 'localhost', 'port': 55001}"
      ]
     },
     "execution_count": 132,
     "metadata": {},
     "output_type": "execute_result"
    }
   ],
   "source": [
    "connectCa3.__dict__"
   ]
  },
  {
   "cell_type": "markdown",
   "id": "a94a4428-10da-4c44-86ad-07121001365e",
   "metadata": {},
   "source": [
    "Looks like it is inheriting the class variables from the parent class"
   ]
  },
  {
   "cell_type": "markdown",
   "id": "7b44a8cf-7dbd-421e-8be1-51de89b836c2",
   "metadata": {
    "tags": []
   },
   "source": [
    "### 3. Using \"__ class __\" instead of the class's hardcoded name"
   ]
  },
  {
   "cell_type": "code",
   "execution_count": 133,
   "id": "d10e3bd0-3999-48a3-9b99-7e1b8def5596",
   "metadata": {
    "tags": []
   },
   "outputs": [],
   "source": [
    "class ConnectionD:\n",
    "    port = 55000\n",
    "    conn_limit = 10\n",
    "    conn_count = 0\n",
    "    \n",
    "    def __init__(self, host):\n",
    "        # set the host for the instance\n",
    "        self.host = host\n",
    "        # set the port based on the class variable port\n",
    "        \n",
    "        # add 1 to the class's connection_count\n",
    "        if __class__.conn_count < __class__.conn_limit:\n",
    "            __class__.conn_count += 1\n",
    "        \n",
    "        self.port = self.port + __class__.conn_count\n",
    "\n",
    "    def close(self):\n",
    "        # reduce the class's connection_count by 1\n",
    "        # self.conn_count -= 1\n",
    "        __class__.conn_count = __class__.conn_count - 1\n",
    "        \n",
    "    def __repr__(self):\n",
    "        return f\"{self.host}, {self.port}\""
   ]
  },
  {
   "cell_type": "code",
   "execution_count": 134,
   "id": "8d9a0d14-ef2c-4181-9c5c-f4adeb607b86",
   "metadata": {
    "tags": []
   },
   "outputs": [
    {
     "data": {
      "text/plain": [
       "{'host': 'localhost', 'port': 55001}"
      ]
     },
     "execution_count": 134,
     "metadata": {},
     "output_type": "execute_result"
    }
   ],
   "source": [
    "connectD = ConnectionD('localhost')\n",
    "connectD.__dict__"
   ]
  },
  {
   "cell_type": "markdown",
   "id": "2d141f26-7b7a-4d51-8cb6-8e759c8493d2",
   "metadata": {},
   "source": [
    "It seemed to work when we used dunder __class__"
   ]
  },
  {
   "cell_type": "code",
   "execution_count": 135,
   "id": "a6acedd3-30b8-4ffc-b556-a07410a81a24",
   "metadata": {
    "tags": []
   },
   "outputs": [
    {
     "data": {
      "text/plain": [
       "{'host': 'localhost', 'port': 55002}"
      ]
     },
     "execution_count": 135,
     "metadata": {},
     "output_type": "execute_result"
    }
   ],
   "source": [
    "connectD2 = ConnectionD('localhost')\n",
    "connectD2.__dict__"
   ]
  },
  {
   "cell_type": "code",
   "execution_count": 106,
   "id": "ad4120f2-3ee9-4229-ae0b-263ba115122b",
   "metadata": {
    "tags": []
   },
   "outputs": [
    {
     "name": "stdout",
     "output_type": "stream",
     "text": [
      "localhost, 55001\n",
      "localhost, 55002\n"
     ]
    }
   ],
   "source": [
    "print(connectD)\n",
    "print(connectD2)"
   ]
  },
  {
   "cell_type": "code",
   "execution_count": 136,
   "id": "dfd22cb9-e471-4e53-a7b2-3efae4f03665",
   "metadata": {
    "tags": []
   },
   "outputs": [
    {
     "data": {
      "text/plain": [
       "mappingproxy({'__module__': '__main__',\n",
       "              'port': 55000,\n",
       "              'conn_limit': 10,\n",
       "              'conn_count': 2,\n",
       "              '__init__': <function __main__.ConnectionD.__init__(self, host)>,\n",
       "              'close': <function __main__.ConnectionD.close(self)>,\n",
       "              '__repr__': <function __main__.ConnectionD.__repr__(self)>,\n",
       "              '__dict__': <attribute '__dict__' of 'ConnectionD' objects>,\n",
       "              '__weakref__': <attribute '__weakref__' of 'ConnectionD' objects>,\n",
       "              '__doc__': None})"
      ]
     },
     "execution_count": 136,
     "metadata": {},
     "output_type": "execute_result"
    }
   ],
   "source": [
    "ConnectionD.__dict__"
   ]
  },
  {
   "cell_type": "code",
   "execution_count": 137,
   "id": "d880d9e4-097f-47ee-bfab-fa93665f9e94",
   "metadata": {
    "tags": []
   },
   "outputs": [],
   "source": [
    "connectD2.close()"
   ]
  },
  {
   "cell_type": "code",
   "execution_count": 138,
   "id": "2acf3550-1bbc-455a-a3a2-91f9431c21f3",
   "metadata": {
    "tags": []
   },
   "outputs": [
    {
     "data": {
      "text/plain": [
       "mappingproxy({'__module__': '__main__',\n",
       "              'port': 55000,\n",
       "              'conn_limit': 10,\n",
       "              'conn_count': 1,\n",
       "              '__init__': <function __main__.ConnectionD.__init__(self, host)>,\n",
       "              'close': <function __main__.ConnectionD.close(self)>,\n",
       "              '__repr__': <function __main__.ConnectionD.__repr__(self)>,\n",
       "              '__dict__': <attribute '__dict__' of 'ConnectionD' objects>,\n",
       "              '__weakref__': <attribute '__weakref__' of 'ConnectionD' objects>,\n",
       "              '__doc__': None})"
      ]
     },
     "execution_count": 138,
     "metadata": {},
     "output_type": "execute_result"
    }
   ],
   "source": [
    "ConnectionD.__dict__"
   ]
  },
  {
   "cell_type": "code",
   "execution_count": 139,
   "id": "e43f72c5-30ba-4b1b-97aa-a409bc98f586",
   "metadata": {
    "tags": []
   },
   "outputs": [
    {
     "data": {
      "text/plain": [
       "{'host': 'localhost', 'port': 55002}"
      ]
     },
     "execution_count": 139,
     "metadata": {},
     "output_type": "execute_result"
    }
   ],
   "source": [
    "connectD2.__dict__"
   ]
  },
  {
   "cell_type": "code",
   "execution_count": 141,
   "id": "1eae1e1e-2914-4b8c-858e-9e2ffd0ea674",
   "metadata": {
    "tags": []
   },
   "outputs": [],
   "source": [
    "connectD3 = ConnectionD('localhost')"
   ]
  },
  {
   "cell_type": "code",
   "execution_count": 142,
   "id": "1f318508-0fa3-46d3-b90c-d35ce53762ef",
   "metadata": {
    "tags": []
   },
   "outputs": [
    {
     "data": {
      "text/plain": [
       "{'host': 'localhost', 'port': 55002}"
      ]
     },
     "execution_count": 142,
     "metadata": {},
     "output_type": "execute_result"
    }
   ],
   "source": [
    "connectD3.__dict__"
   ]
  },
  {
   "cell_type": "markdown",
   "id": "ea5d9036-2fcc-4438-8b78-3474bf3946c1",
   "metadata": {},
   "source": [
    "This is a bug I hadn't noticed before ... now connectD2 and connectD3 share the same port. But this bug is due to the usage of class variables for the connection count."
   ]
  },
  {
   "cell_type": "markdown",
   "id": "e8bd496a-a303-48e8-8ccc-ce0cc1c15f48",
   "metadata": {},
   "source": [
    "### 4. Using class methods (@classmethod decorator)"
   ]
  },
  {
   "cell_type": "code",
   "execution_count": 161,
   "id": "401de2f8-e0bd-4414-958f-689e79489b47",
   "metadata": {
    "tags": []
   },
   "outputs": [],
   "source": [
    "class ConnectionCM1:\n",
    "    port = 55000\n",
    "    conn_limit = 10\n",
    "    conn_count = 0\n",
    "    host = ''\n",
    "    \n",
    "    @classmethod\n",
    "    def get_next_port(cls):\n",
    "        return cls.port + 1\n",
    "        \n",
    "    @classmethod\n",
    "    def add_connection(cls, host):\n",
    "        cls.host = host\n",
    "        \n",
    "        # add 1 to the class's connection_count\n",
    "        if cls.conn_count < cls.conn_limit:\n",
    "            cls.conn_count += 1\n",
    "        \n",
    "        cls.port = cls.get_next_port()\n",
    "        \n",
    "    @classmethod\n",
    "    def remove_connection(cls):\n",
    "        # reduce the class's connection_count by 1\n",
    "        cls.conn_count = cls.conn_count - 1\n",
    "        cls.port = cls.port - 1\n",
    "        \n",
    "    @classmethod\n",
    "    def get_connection_count(cls):\n",
    "        return cls.conn_count\n",
    "        "
   ]
  },
  {
   "cell_type": "code",
   "execution_count": 160,
   "id": "a998ee68-db28-4fdb-8412-88b022f8cc3b",
   "metadata": {
    "tags": []
   },
   "outputs": [
    {
     "name": "stdout",
     "output_type": "stream",
     "text": [
      "deleted ConnectionCM1\n"
     ]
    }
   ],
   "source": [
    "unset('ConnectionCM1')"
   ]
  },
  {
   "cell_type": "code",
   "execution_count": 162,
   "id": "3a868995-3f85-476a-a541-9a8286d330ae",
   "metadata": {
    "tags": []
   },
   "outputs": [],
   "source": [
    "ConnectionCM1.add_connection('localhost')"
   ]
  },
  {
   "cell_type": "code",
   "execution_count": 163,
   "id": "e35b423b-0032-4e66-bab6-e7a440062add",
   "metadata": {
    "tags": []
   },
   "outputs": [
    {
     "data": {
      "text/plain": [
       "mappingproxy({'__module__': '__main__',\n",
       "              'port': 55001,\n",
       "              'conn_limit': 10,\n",
       "              'conn_count': 1,\n",
       "              'host': 'localhost',\n",
       "              'get_next_port': <classmethod(<function ConnectionCM1.get_next_port at 0x107cb8d60>)>,\n",
       "              'add_connection': <classmethod(<function ConnectionCM1.add_connection at 0x107cb8e00>)>,\n",
       "              'remove_connection': <classmethod(<function ConnectionCM1.remove_connection at 0x107cb9300>)>,\n",
       "              'get_connection_count': <classmethod(<function ConnectionCM1.get_connection_count at 0x107cb8fe0>)>,\n",
       "              '__dict__': <attribute '__dict__' of 'ConnectionCM1' objects>,\n",
       "              '__weakref__': <attribute '__weakref__' of 'ConnectionCM1' objects>,\n",
       "              '__doc__': None})"
      ]
     },
     "execution_count": 163,
     "metadata": {},
     "output_type": "execute_result"
    }
   ],
   "source": [
    "ConnectionCM1.__dict__"
   ]
  },
  {
   "cell_type": "code",
   "execution_count": 164,
   "id": "f904f2f3-acda-4a4e-b571-c3a80514a830",
   "metadata": {
    "tags": []
   },
   "outputs": [],
   "source": [
    "ConnectionCM1.add_connection('localhost')"
   ]
  },
  {
   "cell_type": "code",
   "execution_count": 165,
   "id": "51c2cace-2769-4afb-89d3-ce278b06c352",
   "metadata": {
    "tags": []
   },
   "outputs": [
    {
     "data": {
      "text/plain": [
       "mappingproxy({'__module__': '__main__',\n",
       "              'port': 55002,\n",
       "              'conn_limit': 10,\n",
       "              'conn_count': 2,\n",
       "              'host': 'localhost',\n",
       "              'get_next_port': <classmethod(<function ConnectionCM1.get_next_port at 0x107cb8d60>)>,\n",
       "              'add_connection': <classmethod(<function ConnectionCM1.add_connection at 0x107cb8e00>)>,\n",
       "              'remove_connection': <classmethod(<function ConnectionCM1.remove_connection at 0x107cb9300>)>,\n",
       "              'get_connection_count': <classmethod(<function ConnectionCM1.get_connection_count at 0x107cb8fe0>)>,\n",
       "              '__dict__': <attribute '__dict__' of 'ConnectionCM1' objects>,\n",
       "              '__weakref__': <attribute '__weakref__' of 'ConnectionCM1' objects>,\n",
       "              '__doc__': None})"
      ]
     },
     "execution_count": 165,
     "metadata": {},
     "output_type": "execute_result"
    }
   ],
   "source": [
    "ConnectionCM1.__dict__"
   ]
  },
  {
   "cell_type": "code",
   "execution_count": 166,
   "id": "c99081a4-cd53-41a2-bd91-b315b843e9ed",
   "metadata": {
    "tags": []
   },
   "outputs": [],
   "source": [
    "ConnectionCM1.remove_connection()"
   ]
  },
  {
   "cell_type": "code",
   "execution_count": 167,
   "id": "7f56a9b0-8e17-49ef-ae7a-f499ec46b5ab",
   "metadata": {
    "tags": []
   },
   "outputs": [
    {
     "data": {
      "text/plain": [
       "mappingproxy({'__module__': '__main__',\n",
       "              'port': 55001,\n",
       "              'conn_limit': 10,\n",
       "              'conn_count': 1,\n",
       "              'host': 'localhost',\n",
       "              'get_next_port': <classmethod(<function ConnectionCM1.get_next_port at 0x107cb8d60>)>,\n",
       "              'add_connection': <classmethod(<function ConnectionCM1.add_connection at 0x107cb8e00>)>,\n",
       "              'remove_connection': <classmethod(<function ConnectionCM1.remove_connection at 0x107cb9300>)>,\n",
       "              'get_connection_count': <classmethod(<function ConnectionCM1.get_connection_count at 0x107cb8fe0>)>,\n",
       "              '__dict__': <attribute '__dict__' of 'ConnectionCM1' objects>,\n",
       "              '__weakref__': <attribute '__weakref__' of 'ConnectionCM1' objects>,\n",
       "              '__doc__': None})"
      ]
     },
     "execution_count": 167,
     "metadata": {},
     "output_type": "execute_result"
    }
   ],
   "source": [
    "ConnectionCM1.__dict__"
   ]
  },
  {
   "cell_type": "code",
   "execution_count": 168,
   "id": "4079617e-b359-4626-853c-8e8023c1c46f",
   "metadata": {
    "tags": []
   },
   "outputs": [
    {
     "data": {
      "text/plain": [
       "mappingproxy({'__module__': '__main__',\n",
       "              'port': 55000,\n",
       "              'conn_limit': 10,\n",
       "              'conn_count': 0,\n",
       "              'host': 'localhost',\n",
       "              'get_next_port': <classmethod(<function ConnectionCM1.get_next_port at 0x107cb8d60>)>,\n",
       "              'add_connection': <classmethod(<function ConnectionCM1.add_connection at 0x107cb8e00>)>,\n",
       "              'remove_connection': <classmethod(<function ConnectionCM1.remove_connection at 0x107cb9300>)>,\n",
       "              'get_connection_count': <classmethod(<function ConnectionCM1.get_connection_count at 0x107cb8fe0>)>,\n",
       "              '__dict__': <attribute '__dict__' of 'ConnectionCM1' objects>,\n",
       "              '__weakref__': <attribute '__weakref__' of 'ConnectionCM1' objects>,\n",
       "              '__doc__': None})"
      ]
     },
     "execution_count": 168,
     "metadata": {},
     "output_type": "execute_result"
    }
   ],
   "source": [
    "ConnectionCM1.remove_connection()\n",
    "ConnectionCM1.__dict__"
   ]
  },
  {
   "cell_type": "code",
   "execution_count": null,
   "id": "884d689f-5c4e-4a5c-a36b-290f64b181d7",
   "metadata": {},
   "outputs": [],
   "source": []
  }
 ],
 "metadata": {
  "kernelspec": {
   "display_name": "Python 3 (ipykernel)",
   "language": "python",
   "name": "python3"
  },
  "language_info": {
   "codemirror_mode": {
    "name": "ipython",
    "version": 3
   },
   "file_extension": ".py",
   "mimetype": "text/x-python",
   "name": "python",
   "nbconvert_exporter": "python",
   "pygments_lexer": "ipython3",
   "version": "3.11.2"
  }
 },
 "nbformat": 4,
 "nbformat_minor": 5
}
